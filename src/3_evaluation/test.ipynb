{
 "cells": [
  {
   "cell_type": "code",
   "execution_count": null,
   "metadata": {
    "vscode": {
     "languageId": "plaintext"
    }
   },
   "outputs": [],
   "source": [
    "import json\n",
    "import pandas as pd\n",
    "import matplotlib.pyplot as plt\n",
    "import seaborn as sns\n",
    "\n",
    "# 定義模型名稱列表\n",
    "models = ['svm', 'bert-chinese-base', 'chinese-roberta-wwm-ext', 'chinese-roberta-wwm-ext(with-adversarial-training)', 'chinese-roberta-wwm-ext-large(with-adversarial-training)', 'robert-distilled-model']\n",
    "\n",
    "# 載入所有 JSON 數據\n",
    "data = {}\n",
    "for model in models:\n",
    "    filename = f\"./{model}/evaluation_results.json\"\n",
    "    with open(filename, 'r') as f:\n",
    "        data[model] = json.load(f)\n",
    "\n",
    "# 提取情緒分類指標\n",
    "sentiment_df = pd.DataFrame({\n",
    "    'Model': models,\n",
    "    'Accuracy': [data[model]['sentiment']['accuracy'] for model in models],\n",
    "    'Macro F1': [data[model]['sentiment']['macro_f1'] for model in models]\n",
    "})\n",
    "\n",
    "# 繪製情緒分類準確率柱狀圖\n",
    "plt.figure(figsize=(10, 6))\n",
    "ax = sns.barplot(x='Model', y='Accuracy', data=sentiment_df)\n",
    "plt.title('情緒分類準確率比較')\n",
    "plt.xticks(rotation=45)\n",
    "for p in ax.patches:\n",
    "    ax.annotate(f'{p.get_height():.3f}', (p.get_x() + p.get_width() / 2., p.get_height()),\n",
    "                ha='center', va='center', xytext=(0, 5), textcoords='offset points')\n",
    "plt.tight_layout()\n",
    "plt.show()\n",
    "\n",
    "# 繪製情緒分類 Macro F1 柱狀圖\n",
    "plt.figure(figsize=(10, 6))\n",
    "ax = sns.barplot(x='Model', y='Macro F1', data=sentiment_df)\n",
    "plt.title('情緒分類 Macro F1 分數比較')\n",
    "plt.xticks(rotation=45)\n",
    "for p in ax.patches:\n",
    "    ax.annotate(f'{p.get_height():.3f}', (p.get_x() + p.get_width() / 2., p.get_height()),\n",
    "                ha='center', va='center', xytext=(0, 5), textcoords='offset points')\n",
    "plt.tight_layout()\n",
    "plt.show()\n",
    "\n",
    "# 定義回歸任務目標\n",
    "regression_targets = ['rating', 'delight', 'anger', 'sorrow', 'happiness']\n",
    "\n",
    "# 為每個回歸目標繪製 R2 分數柱狀圖\n",
    "for target in regression_targets:\n",
    "    df = pd.DataFrame({\n",
    "        'Model': models,\n",
    "        'R2': [data[model]['regression'][target]['r2'] for model in models]\n",
    "    })\n",
    "    plt.figure(figsize=(10, 6))\n",
    "    ax = sns.barplot(x='Model', y='R2', data=df)\n",
    "    plt.title(f'{target.capitalize()} 回歸任務 R2 分數比較')\n",
    "    plt.xticks(rotation=45)\n",
    "    for p in ax.patches:\n",
    "        ax.annotate(f'{p.get_height():.3f}', (p.get_x() + p.get_width() / 2., p.get_height()),\n",
    "                    ha='center', va='center', xytext=(0, 5), textcoords='offset points')\n",
    "    plt.tight_layout()\n",
    "    plt.show()"
   ]
  }
 ],
 "metadata": {
  "language_info": {
   "name": "python"
  }
 },
 "nbformat": 4,
 "nbformat_minor": 2
}
